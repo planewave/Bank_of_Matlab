{
  "nbformat": 4,
  "nbformat_minor": 0,
  "metadata": {
    "colab": {
      "name": "naive_IQ2phase.ipynb",
      "version": "0.3.2",
      "provenance": [],
      "collapsed_sections": [],
      "include_colab_link": true
    },
    "kernelspec": {
      "name": "python3",
      "display_name": "Python 3"
    },
    "accelerator": "GPU"
  },
  "cells": [
    {
      "cell_type": "markdown",
      "metadata": {
        "id": "view-in-github",
        "colab_type": "text"
      },
      "source": [
        "[View in Colaboratory](https://colab.research.google.com/github/planewave/Bank_of_Matlab/blob/master/naive_IQ2phase.ipynb)"
      ]
    },
    {
      "metadata": {
        "id": "1LClpbZ1AFbi",
        "colab_type": "code",
        "colab": {
          "base_uri": "https://localhost:8080/",
          "height": 70
        },
        "outputId": "1d7366ff-6ad4-4938-bd7b-57e3b39b06ab"
      },
      "cell_type": "code",
      "source": [
        "!pip3 -q install torch\n",
        "import torch\n",
        "from torch import nn\n",
        "import numpy as np\n",
        "torch.__version__"
      ],
      "execution_count": 1,
      "outputs": [
        {
          "output_type": "stream",
          "text": [
            "tcmalloc: large alloc 1073750016 bytes == 0x598c4000 @  0x7fc91d0fd1c4 0x46d6a4 0x5fcbcc 0x4c494d 0x54f3c4 0x553aaf 0x54e4c8 0x54f4f6 0x553aaf 0x54efc1 0x54f24d 0x553aaf 0x54efc1 0x54f24d 0x553aaf 0x54efc1 0x54f24d 0x551ee0 0x54e4c8 0x54f4f6 0x553aaf 0x54efc1 0x54f24d 0x551ee0 0x54efc1 0x54f24d 0x551ee0 0x54e4c8 0x54f4f6 0x553aaf 0x54e4c8\n"
          ],
          "name": "stdout"
        },
        {
          "output_type": "execute_result",
          "data": {
            "text/plain": [
              "'0.4.1'"
            ]
          },
          "metadata": {
            "tags": []
          },
          "execution_count": 1
        }
      ]
    },
    {
      "metadata": {
        "id": "0zKDS12AA2rs",
        "colab_type": "code",
        "colab": {},
        "cellView": "form"
      },
      "cell_type": "code",
      "source": [
        "#@title\n",
        "def rrcosdesign(beta, span, sps):\n",
        "    \"\"\"\n",
        "    returns the coefficients, that correspond to a square-root raised \n",
        "    cosine FIR filter with rolloff factor specified by beta. The filter \n",
        "    is truncated to span symbols, and each symbol period contains sps \n",
        "    samples. The order of the filter, sps*span, must be even. \n",
        "    modified from:\n",
        "    https://github.com/veeresht/CommPy/blob/master/commpy/filters.py\n",
        "    \"\"\"\n",
        "    n = sps*span\n",
        "    rrc = np.zeros(n, dtype=float)\n",
        "        \n",
        "    for x in np.arange(n):\n",
        "        t = (x-n/2)/sps\n",
        "        if t == 0.0:\n",
        "            rrc[x] = 1.0 - beta + (4*beta/np.pi)\n",
        "        elif beta != 0 and t == 1/(4*beta):\n",
        "            rrc[x] = ((beta/np.sqrt(2))*(((1+2/np.pi)*(np.sin(np.pi/\n",
        "                     (4*beta)))) + ((1-2/np.pi)*(np.cos(np.pi/(4*beta))))))\n",
        "        elif beta != 0 and t == -1/(4*beta):\n",
        "            rrc[x] = ((beta/np.sqrt(2))*(((1+2/np.pi)*(np.sin(np.pi/\n",
        "                     (4*beta)))) + ((1-2/np.pi)*(np.cos(np.pi/(4*beta))))))\n",
        "        else:\n",
        "            rrc[x] = ((np.sin(np.pi*t*(1-beta))+4*beta*(t)*np.cos(np.pi*\n",
        "                     t*(1+beta)))/(np.pi*t*(1-(4*beta*t)*(4*beta*t))))\n",
        "        \n",
        "    return rrc\n",
        "\n",
        "def upsample(x, n):\n",
        "    \"\"\"\n",
        "    increase sample rate by integer factor\n",
        "    y = upsample(x,n) increases the sample rate of x by \n",
        "    inserting n – 1 zeros between samples.\n",
        "    input is 1D numpy array\n",
        "    \n",
        "    \"\"\"\n",
        "    zo = np.zeros((len(x), n), dtype=x.dtype)\n",
        "    zo[:,0] += x\n",
        "    return zo.flatten()"
      ],
      "execution_count": 0,
      "outputs": []
    },
    {
      "metadata": {
        "id": "Qr4Z566bBuY5",
        "colab_type": "code",
        "colab": {}
      },
      "cell_type": "code",
      "source": [
        "# get the CNN, optimizer and loss func ready\n",
        "CUDA = True\n",
        "LR = 1e-3 # learning rate\n",
        "dtype = torch.float\n",
        "\n",
        "class NET(nn.Module):\n",
        "    def __init__(self):\n",
        "        super(NET, self).__init__()\n",
        "        \n",
        "        # find the IQ component of each symbol\n",
        "        # down sample by 16\n",
        "        self.cnn_1 = nn.Sequential(\n",
        "        # in_channels, out_channels, kernel_size, stride, padding\n",
        "            nn.Conv1d(1, 32, 3, 1, 1),\n",
        "            nn.ReLU(),\n",
        "            nn.MaxPool1d(2),\n",
        "            nn.Conv1d(32, 16, 3, 1, 1),\n",
        "            nn.ReLU(),\n",
        "            nn.MaxPool1d(2),\n",
        "            nn.Conv1d(16, 8, 3, 1, 1),\n",
        "            nn.ReLU(),\n",
        "            nn.MaxPool1d(2),\n",
        "            nn.Conv1d(8, 4, 3, 1, 1),\n",
        "            nn.ReLU(),\n",
        "            nn.MaxPool1d(2),\n",
        "            nn.Conv1d(4, 2, 3, 1, 1),\n",
        "            )\n",
        "        \n",
        "\n",
        "        \n",
        "        self.cnn_2 = nn.Sequential(\n",
        "            nn.Conv1d(1, 16, 3, 1, 1),\n",
        "            nn.ReLU(),\n",
        "            nn.MaxPool1d(2),\n",
        "            nn.Conv1d(16, 8, 3, 1, 1),\n",
        "            nn.ReLU(),\n",
        "            nn.MaxPool1d(2),\n",
        "            nn.Conv1d(8, 4, 3, 1, 1),\n",
        "            )\n",
        "        self.lin_2 = nn.Linear(32, 1)\n",
        "\n",
        "    def forward(self, x, carr_off, time_cfo):\n",
        "        # down convert, output absolute symbol phase\n",
        "        symb_IQ = self.cnn_1(x) #[batch, 1, 32]\n",
        "        # convert IQ to phase\n",
        "        symb_phase = torch.atan2(symb_IQ[:, 0, :],symb_IQ[:, 1, :])\n",
        "        # remove carrier introduced phase\n",
        "        symb_phase = (symb_phase-carr_off-np.pi)%(2*np.pi)-np.pi\n",
        "        \n",
        "        # estimate CFO\n",
        "        x2 = symb_phase.unsqueeze(1) #[batch, 32] to [batch, 1, 32]\n",
        "        cnn_out2 = self.cnn_2(x2) \n",
        "        cfo = self.lin_2(cnn_out2.view(cnn_out2.size(0), -1))\n",
        "        # [batch, 1]\n",
        "        \n",
        "        # apply CFO\n",
        "        cfo_mat = cfo.mm(time_cfo) # [batch, 1]*[1, 32]=[batch, 32]\n",
        "        symb_phase_comp = (symb_phase+cfo_mat-np.pi)%(2*np.pi)-np.pi\n",
        "        \n",
        "        return symb_phase_comp\n",
        "    \n",
        "net = NET()\n",
        "\n",
        "\n",
        "if CUDA:\n",
        "    device = torch.device('cuda:0')\n",
        "    net.cuda()\n",
        "else:\n",
        "    device = torch.device('cpu')\n",
        "    \n",
        "\n",
        "optimizer = torch.optim.Adam(net.parameters(), lr=LR)\n",
        "# loss_func = nn.MSELoss()\n",
        "\n",
        "def circ_loss(input, target, cyc):\n",
        "    \"\"\"\n",
        "    a circular MSE loss \n",
        "    \"\"\"\n",
        "    dif = torch.abs(input-target)\n",
        "    dif[dif>cyc/2] = dif[dif>cyc/2]-cyc\n",
        "#     return torch.mean(dif**2)\n",
        "    return dif.abs().mean()\n",
        "\n",
        "# sanity test \n",
        "# beta, span, sps = 0.4, 16, 16\n",
        "# nSymb = 32\n",
        "# batch = 128\n",
        "# x = torch.rand(batch, 1, nSymb*sps, dtype = dtype, device = device)\n",
        "# out = net(x) #[128, 2, 32]\n",
        "# phase = torch.atan2(out[:, 0, :],out[:, 1, :])\n",
        "# target = torch.rand(batch, nSymb, dtype = dtype, device = device)\n",
        "# target.shape\n",
        "# loss = circ_mse_loss(phase, target, 2*np.pi)\n",
        "# loss\n",
        "\n",
        "\n"
      ],
      "execution_count": 0,
      "outputs": []
    },
    {
      "metadata": {
        "id": "ujjrb4JcDIT2",
        "colab_type": "code",
        "colab": {
          "base_uri": "https://localhost:8080/",
          "height": 202
        },
        "outputId": "07ab0161-dfa5-4447-85df-db747b71a703"
      },
      "cell_type": "code",
      "source": [
        "M = 4 # QPSK\n",
        "SYMB = 32 # num of symbols\n",
        "BATCH = 256\n",
        "beta, span, sps = 0.4, 6, 16\n",
        "rrc = rrcosdesign(beta, span, sps)\n",
        "fc = 5.0e3 # carrier freq\n",
        "baud = 1.1e3 \n",
        "\n",
        "# note there is an assumption that timing is perfect\n",
        "fs = baud*sps # signal sample rate 16k>2*fc\n",
        "# initialization\n",
        "sig_batch = np.zeros((BATCH, 1, SYMB*sps)) #(128, 1, 512)\n",
        "msg_batch = np.zeros((BATCH, SYMB))\n",
        "\n",
        "carr_off = 2*np.pi*fc/baud*torch.arange(0, SYMB).float()\n",
        "time_cfo = torch.arange(0, SYMB).float().view(1, -1)\n",
        "\n",
        "if CUDA:\n",
        "    carr_off = carr_off.cuda()\n",
        "    time_cfo = time_cfo.cuda()\n",
        "\n",
        "cyc = 2*np.pi\n",
        "\n",
        "for epoch in range(501):\n",
        "    # 准备输入数据\n",
        "    for batch in range(BATCH):\n",
        "        # 数据格式: numpy 多维数组\n",
        "        msg = np.random.randint(0, M, SYMB) # 0~3\n",
        "        sig_mod = np.exp(1j*(np.pi/M+msg*(2*np.pi/M))) # k/4*pi k=0~3\n",
        "        sig_phase = np.angle(sig_mod)\n",
        "        # pluse shaping \n",
        "        sig_up = upsample(sig_mod, sps) # SYMB*sps (512,)\n",
        "        sig_pulse = np.convolve(sig_up, rrc) # (607,)\n",
        "        # up convert\n",
        "        samp_len = len(sig_pulse)\n",
        "        time_carr = np.arange(samp_len)/fs\n",
        "        \n",
        "        \n",
        "        cfo = np.random.rand()*20-10 # include CFO\n",
        "        carrier = np.exp(1j*(2*np.pi*(fc+cfo)*time_carr))\n",
        "        sig_pass = np.real(sig_pulse*carrier)# (607,)\n",
        "        noise = 0.04*np.random.randn(sig_pass.size)\n",
        "        sig_pass = sig_pass+noise\n",
        "        sig_batch[batch, 0, :] = sig_pass[int(rrc.size/2):int(-rrc.size/2+1)]\n",
        "        msg_batch[batch, :] = sig_phase\n",
        "        \n",
        "    # numpy to torch tensor    \n",
        "    sig_input = torch.tensor(sig_batch, dtype = dtype, device=device) \n",
        "    target = torch.tensor(msg_batch, dtype = dtype, device=device) #[128, 32]\n",
        "    # training\n",
        "\n",
        "        \n",
        "    phase_est = net(sig_input, carr_off, time_cfo) #[256, 2, 32]\n",
        "#     phase_est = torch.atan2(y_est[:, 0, :],y_est[:, 1, :])\n",
        "#     phase_est = (phase_est-2*np.pi*fc/baud*torch.arange(0, SYMB)\n",
        "#                  .float().cuda()-np.pi)%(2*np.pi)-np.pi\n",
        "\n",
        "    loss = circ_loss(phase_est, target, cyc)\n",
        "    optimizer.zero_grad()\n",
        "    loss.backward()\n",
        "    optimizer.step()\n",
        "    if epoch%50==0:\n",
        "        degree = loss.item()/np.pi*180\n",
        "        print(\"epoch = \",epoch, \"; loss = %7.4f\"% degree)\n"
      ],
      "execution_count": 7,
      "outputs": [
        {
          "output_type": "stream",
          "text": [
            "epoch =  0 ; loss = 32.7171\n",
            "epoch =  50 ; loss = 32.7330\n",
            "epoch =  100 ; loss = 30.6420\n",
            "epoch =  150 ; loss = 28.1851\n",
            "epoch =  200 ; loss = 27.3395\n",
            "epoch =  250 ; loss = 26.4350\n",
            "epoch =  300 ; loss = 22.7120\n",
            "epoch =  350 ; loss = 21.6147\n",
            "epoch =  400 ; loss = 22.6379\n",
            "epoch =  450 ; loss = 19.9193\n",
            "epoch =  500 ; loss = 18.7950\n"
          ],
          "name": "stdout"
        }
      ]
    },
    {
      "metadata": {
        "id": "GFhstYTYNX22",
        "colab_type": "code",
        "colab": {
          "base_uri": "https://localhost:8080/",
          "height": 364
        },
        "outputId": "b8c4db83-9710-41bd-b2d5-b1fa84d27398"
      },
      "cell_type": "code",
      "source": [
        "import numpy as np\n",
        "import matplotlib.pyplot as plt\n",
        "x = np.arange(0,32)\n",
        "y1 = phase_est[41].cpu().detach().numpy()/np.pi*180\n",
        "y2 = target[41].cpu().detach().numpy()/np.pi*180\n",
        "plt.plot(x, y1)\n",
        "plt.plot(x, y2)\n",
        "plt.show()\n",
        "np.mean(np.abs(y1-y2))\n",
        "# phase_est[0].cpu().detach().numpy()\n",
        "\n"
      ],
      "execution_count": 8,
      "outputs": [
        {
          "output_type": "display_data",
          "data": {
            "image/png": "[encoded data removed]",
            "text/plain": [
              "<matplotlib.figure.Figure at 0x7f66d37cd710>"
            ]
          },
          "metadata": {
            "tags": []
          }
        },
        {
          "output_type": "execute_result",
          "data": {
            "text/plain": [
              "13.462303"
            ]
          },
          "metadata": {
            "tags": []
          },
          "execution_count": 8
        }
      ]
    }
  ]
}